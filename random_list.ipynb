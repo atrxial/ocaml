{
 "cells": [
  {
   "cell_type": "code",
   "execution_count": 15,
   "metadata": {},
   "outputs": [
    {
     "data": {
      "text/plain": [
       "type bit = Z | U\n"
      ]
     },
     "execution_count": 15,
     "metadata": {},
     "output_type": "execute_result"
    },
    {
     "data": {
      "text/plain": [
       "type nombre = bit list\n"
      ]
     },
     "execution_count": 15,
     "metadata": {},
     "output_type": "execute_result"
    }
   ],
   "source": [
    "type bit = Z |U ;;\n",
    "type nombre = bit list ;;"
   ]
  },
  {
   "cell_type": "code",
   "execution_count": 16,
   "metadata": {},
   "outputs": [
    {
     "data": {
      "text/plain": [
       "val succ : bit list -> bit list = <fun>\n"
      ]
     },
     "execution_count": 16,
     "metadata": {},
     "output_type": "execute_result"
    }
   ],
   "source": [
    "let rec succ u = match u with\n",
    "\t|[]->[U]\n",
    "\t|x::r -> if x = Z then U::r else Z::(succ r) ;;"
   ]
  },
  {
   "cell_type": "code",
   "execution_count": 17,
   "metadata": {},
   "outputs": [
    {
     "data": {
      "text/plain": [
       "val pred : bit list -> bit list = <fun>\n"
      ]
     },
     "execution_count": 17,
     "metadata": {},
     "output_type": "execute_result"
    }
   ],
   "source": [
    "let rec pred u = match u with\n",
    "\t|[]-> failwith \"nombre zéro\"\n",
    "\t|[x]-> []\n",
    "\t|x::r -> if x = U then Z::r else U::(pred r) ;;"
   ]
  },
  {
   "cell_type": "code",
   "execution_count": 29,
   "metadata": {},
   "outputs": [
    {
     "data": {
      "text/plain": [
       "- : bit list = [Z; Z; Z; Z; Z; U]\n"
      ]
     },
     "execution_count": 29,
     "metadata": {},
     "output_type": "execute_result"
    }
   ],
   "source": [
    "succ (succ [Z;U;U;U;U])"
   ]
  },
  {
   "cell_type": "code",
   "execution_count": null,
   "metadata": {},
   "outputs": [],
   "source": []
  },
  {
   "cell_type": "code",
   "execution_count": 22,
   "metadata": {},
   "outputs": [
    {
     "data": {
      "text/plain": [
       "type 'a arbre = F of 'a | N of int * 'a arbre * 'a arbre\n"
      ]
     },
     "execution_count": 22,
     "metadata": {},
     "output_type": "execute_result"
    }
   ],
   "source": [
    "type 'a arbre = \n",
    "   | F of 'a \n",
    "    |N of int * 'a arbre * 'a arbre ;;"
   ]
  },
  {
   "cell_type": "code",
   "execution_count": 138,
   "metadata": {},
   "outputs": [
    {
     "data": {
      "text/plain": [
       "val get_arbre : 'a arbre -> int -> 'a = <fun>\n"
      ]
     },
     "execution_count": 138,
     "metadata": {},
     "output_type": "execute_result"
    }
   ],
   "source": [
    "let rec get_arbre a i = match a with\n",
    "    |F x when i=1 -> x\n",
    "    |F x -> failwith \"error\"\n",
    "    |N (x,g,d) -> if i<=x/2 then get_arbre g i else get_arbre d (x-i) ;;"
   ]
  },
  {
   "cell_type": "code",
   "execution_count": 115,
   "metadata": {},
   "outputs": [
    {
     "data": {
      "text/plain": [
       "val set_arbre : 'a arbre -> int -> 'a -> 'a arbre = <fun>\n"
      ]
     },
     "execution_count": 115,
     "metadata": {},
     "output_type": "execute_result"
    }
   ],
   "source": [
    "let rec set_arbre a i x = match a with\n",
    "    |F w when i=0 -> F x\n",
    "    |F w -> failwith \"error\"\n",
    "    |N (w,g,d) -> if i< w/2 then N(w,set_arbre g (i) x,d) else N(w,g,set_arbre d (i-w/2) x );;"
   ]
  },
  {
   "cell_type": "code",
   "execution_count": 116,
   "metadata": {},
   "outputs": [
    {
     "data": {
      "text/plain": [
       "val a : int arbre = N (4, N (2, F 1, F 2), N (2, F 5, F 6))\n"
      ]
     },
     "execution_count": 116,
     "metadata": {},
     "output_type": "execute_result"
    }
   ],
   "source": [
    "let a = N (4,     N (2, F 1, F 2),  N (2,F 5 , F 6) );;"
   ]
  },
  {
   "cell_type": "code",
   "execution_count": 120,
   "metadata": {},
   "outputs": [
    {
     "data": {
      "text/plain": [
       "- : int arbre = N (4, N (2, F 1000, F 2), N (2, F 5, F 6))\n"
      ]
     },
     "execution_count": 120,
     "metadata": {},
     "output_type": "execute_result"
    }
   ],
   "source": [
    "set_arbre a 0 1000 ;;"
   ]
  },
  {
   "cell_type": "code",
   "execution_count": 121,
   "metadata": {},
   "outputs": [
    {
     "data": {
      "text/plain": [
       "type 'a chiffre = Ze | Un of 'a arbre\n"
      ]
     },
     "execution_count": 121,
     "metadata": {},
     "output_type": "execute_result"
    }
   ],
   "source": [
    "type 'a chiffre =\n",
    "    |Ze \n",
    "    |Un of 'a arbre ;;"
   ]
  },
  {
   "cell_type": "code",
   "execution_count": 122,
   "metadata": {},
   "outputs": [
    {
     "data": {
      "text/plain": [
       "type 'a liste_binaire = 'a chiffre list\n"
      ]
     },
     "execution_count": 122,
     "metadata": {},
     "output_type": "execute_result"
    }
   ],
   "source": [
    "type 'a liste_binaire = 'a chiffre list ;;"
   ]
  },
  {
   "cell_type": "code",
   "execution_count": 123,
   "metadata": {},
   "outputs": [
    {
     "data": {
      "text/plain": [
       "val size : 'a arbre -> int = <fun>\n"
      ]
     },
     "execution_count": 123,
     "metadata": {},
     "output_type": "execute_result"
    }
   ],
   "source": [
    "let size = function\n",
    "    | F _ -> 1\n",
    "    | N (n,_,_) -> n ;;"
   ]
  },
  {
   "cell_type": "code",
   "execution_count": 150,
   "metadata": {},
   "outputs": [
    {
     "data": {
      "text/plain": [
       "val get : 'a chiffre list -> int -> 'a = <fun>\n"
      ]
     },
     "execution_count": 150,
     "metadata": {},
     "output_type": "execute_result"
    }
   ],
   "source": [
    "let rec get li i = match li with\n",
    "    |[] -> failwith \"error\"\n",
    "    |[Un w] -> get_arbre w i\n",
    "    |(Un x)::r -> let a = size x in if a <= i then get r (i-a) else get_arbre x i \n",
    "    |Ze::r -> get r i;;"
   ]
  },
  {
   "cell_type": "code",
   "execution_count": 159,
   "metadata": {},
   "outputs": [
    {
     "data": {
      "text/plain": [
       "val set : 'a chiffre list -> int -> 'a -> 'a chiffre list = <fun>\n"
      ]
     },
     "execution_count": 159,
     "metadata": {},
     "output_type": "execute_result"
    }
   ],
   "source": [
    "let rec set li i x = match li with\n",
    "    |[] -> failwith \"error\"\n",
    "    |[Un w] -> [Un (set_arbre w i x)]\n",
    "    |(Un w)::r -> let a = size w in if a <= i then (Un w)::(set r (i-a) x) else (Un (set_arbre w i x ))::r\n",
    "    |Ze::r -> set r i x;;"
   ]
  },
  {
   "cell_type": "code",
   "execution_count": 217,
   "metadata": {},
   "outputs": [
    {
     "data": {
      "text/plain": [
       "val fusion : 'a arbre -> 'a arbre -> 'a arbre = <fun>\n"
      ]
     },
     "execution_count": 217,
     "metadata": {},
     "output_type": "execute_result"
    },
    {
     "data": {
      "text/plain": [
       "val fusion_l : 'a arbre -> 'a chiffre list -> 'a chiffre list = <fun>\n"
      ]
     },
     "execution_count": 217,
     "metadata": {},
     "output_type": "execute_result"
    }
   ],
   "source": [
    "let rec fusion a b = N ( 2*size a, a , b) ;;\n",
    "\n",
    "let rec fusion_l a r = match r with\n",
    "    |[]->[Un a]\n",
    "    |(Un x)::w -> (Un (fusion a x))::w \n",
    "    |Ze::w -> (Un  a)::w;; (* que doit-on faire, on ne devrait rien faire, cette fonction est là pour fusionner avec le prochain ou alors le placer*)\n"
   ]
  },
  {
   "cell_type": "code",
   "execution_count": 218,
   "metadata": {},
   "outputs": [
    {
     "data": {
      "text/plain": [
       "val cons : 'a chiffre list -> 'a -> 'a chiffre list = <fun>\n"
      ]
     },
     "execution_count": 218,
     "metadata": {},
     "output_type": "execute_result"
    }
   ],
   "source": [
    "let rec cons li x = match li with\n",
    "    |[] -> [Un (F x)]\n",
    "    |(Ze)::r -> (Un (F x))::r\n",
    "    |(Un (F w))::r -> let a = fusion (F x ) (F w ) in Ze::(fusion_l a (cons r x)) \n",
    "    |(Un (N (w,g,d)))::r -> li;; (* on s'adapte, on va fusionner cet arbre avec celui avec d'avant *)"
   ]
  },
  {
   "cell_type": "code",
   "execution_count": 219,
   "metadata": {},
   "outputs": [
    {
     "ename": "error",
     "evalue": "compile_error",
     "output_type": "error",
     "traceback": [
      "File \"[219]\", line 4, characters 4-5:\n4 |     |(Ze)::r -> ;;\n        ^\nError: Syntax error\n"
     ]
    }
   ],
   "source": []
  },
  {
   "cell_type": "code",
   "execution_count": 220,
   "metadata": {},
   "outputs": [
    {
     "data": {
      "text/plain": [
       "val li : int chiffre list = [Un (F 12); Un (N (2, F 2, F 8))]\n"
      ]
     },
     "execution_count": 220,
     "metadata": {},
     "output_type": "execute_result"
    }
   ],
   "source": [
    "let li = [Un (F 12) ;Un (N (2, F 2 , F 8))] ;;"
   ]
  },
  {
   "cell_type": "code",
   "execution_count": 221,
   "metadata": {},
   "outputs": [
    {
     "data": {
      "text/plain": [
       "- : int chiffre list = [Ze; Un (N (4, N (2, F 5, F 12), N (2, F 2, F 8)))]\n"
      ]
     },
     "execution_count": 221,
     "metadata": {},
     "output_type": "execute_result"
    }
   ],
   "source": [
    "cons li 5 ;;"
   ]
  },
  {
   "cell_type": "code",
   "execution_count": null,
   "metadata": {},
   "outputs": [],
   "source": [
    "let rec uncons li x = match li with\n",
    "    |[] -> failwith \"error\"\n",
    "    |(Ze)::r -> uncons r x\n",
    "    |(Un  ( F w)::r -> ( w ,Ze::r)\n",
    "    | ;;"
   ]
  },
  {
   "cell_type": "code",
   "execution_count": null,
   "metadata": {},
   "outputs": [],
   "source": []
  }
 ],
 "metadata": {
  "kernelspec": {
   "display_name": "OCaml 4.08.1+flambda",
   "language": "OCaml",
   "name": "ocaml-jupyter"
  },
  "language_info": {
   "codemirror_mode": "text/x-ocaml",
   "file_extension": ".ml",
   "mimetype": "text/x-ocaml",
   "name": "OCaml",
   "nbconverter_exporter": null,
   "pygments_lexer": "OCaml",
   "version": "4.08.1"
  }
 },
 "nbformat": 4,
 "nbformat_minor": 4
}