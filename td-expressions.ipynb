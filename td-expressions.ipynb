{
 "cells": [
  {
   "cell_type": "markdown",
   "metadata": {},
   "source": [
    "# TD 16 - Expressions arithmétiques"
   ]
  },
  {
   "cell_type": "markdown",
   "metadata": {},
   "source": [
    "## Partie 1 - Arbre d'une expression arithmétique"
   ]
  },
  {
   "cell_type": "code",
   "execution_count": 7,
   "metadata": {},
   "outputs": [
    {
     "data": {
      "text/plain": [
       "type op = Plus | Fois | Moins\n"
      ]
     },
     "execution_count": 7,
     "metadata": {},
     "output_type": "execute_result"
    },
    {
     "data": {
      "text/plain": [
       "type expr = C of int | N of op * expr * expr\n"
      ]
     },
     "execution_count": 7,
     "metadata": {},
     "output_type": "execute_result"
    }
   ],
   "source": [
    "type op =\n",
    "  | Plus\n",
    "  | Fois\n",
    "  | Moins\n",
    "\n",
    "type expr =\n",
    "  | C of int\n",
    "  | N of op * expr * expr"
   ]
  },
  {
   "cell_type": "markdown",
   "metadata": {},
   "source": [
    "### Exercice 1"
   ]
  },
  {
   "cell_type": "code",
   "execution_count": 23,
   "metadata": {},
   "outputs": [
    {
     "data": {
      "text/plain": [
       "val exemple : expr =\n",
       "  N (Plus, N (Fois, C 4, N (Moins, C 8, C 9)), N (Plus, C 6, C 7))\n"
      ]
     },
     "execution_count": 23,
     "metadata": {},
     "output_type": "execute_result"
    },
    {
     "data": {
      "text/plain": [
       "val m : expr = N (Plus, C 2, N (Fois, C 3, C 4))\n",
       "val q : expr = N (Fois, N (Plus, C 2, C 3), C 4)\n"
      ]
     },
     "execution_count": 23,
     "metadata": {},
     "output_type": "execute_result"
    }
   ],
   "source": [
    "let exemple = N ( Plus, N ( Fois, C 4 ,N ( Moins, C 8,C 9)), N ( Plus, C 6,C 7))\n",
    "let m,q = (N (Plus,C 2 ,N(Fois, C 3, C 4)),N (Fois,N(Plus, C 2, C 3),C 4))"
   ]
  },
  {
   "cell_type": "markdown",
   "metadata": {},
   "source": [
    "### Exercice 2"
   ]
  },
  {
   "cell_type": "code",
   "execution_count": 15,
   "metadata": {},
   "outputs": [
    {
     "data": {
      "text/plain": [
       "val applique : op -> int -> int -> int = <fun>\n"
      ]
     },
     "execution_count": 15,
     "metadata": {},
     "output_type": "execute_result"
    }
   ],
   "source": [
    "let applique op a b = match op with\n",
    "    |Fois -> a*b\n",
    "    |Plus -> a+b\n",
    "    |Moins -> a-b"
   ]
  },
  {
   "cell_type": "code",
   "execution_count": 16,
   "metadata": {},
   "outputs": [
    {
     "data": {
      "text/plain": [
       "val eval : expr -> int = <fun>\n"
      ]
     },
     "execution_count": 16,
     "metadata": {},
     "output_type": "execute_result"
    }
   ],
   "source": [
    "let rec eval arbre = match arbre with\n",
    "    |C w -> w\n",
    "    |N (op,a,b) -> applique op (eval a) (eval b)"
   ]
  },
  {
   "cell_type": "code",
   "execution_count": 17,
   "metadata": {},
   "outputs": [
    {
     "data": {
      "text/plain": [
       "- : unit = ()\n"
      ]
     },
     "execution_count": 17,
     "metadata": {},
     "output_type": "execute_result"
    }
   ],
   "source": [
    "assert (eval exemple = 9)"
   ]
  },
  {
   "cell_type": "markdown",
   "metadata": {},
   "source": [
    "## Parties 2 : Différentes notations"
   ]
  },
  {
   "cell_type": "markdown",
   "metadata": {},
   "source": [
    "### Exercice 3"
   ]
  },
  {
   "cell_type": "markdown",
   "metadata": {},
   "source": [
    "4*8+9+6+7 pour infixe, préfixe on a +*4-89+67, postfixe ++76*-984"
   ]
  },
  {
   "cell_type": "markdown",
   "metadata": {},
   "source": [
    "### Exercice 4"
   ]
  },
  {
   "cell_type": "markdown",
   "metadata": {},
   "source": [
    "papier, je recopierai un jour"
   ]
  },
  {
   "cell_type": "markdown",
   "metadata": {},
   "source": [
    "### Exercice 5"
   ]
  },
  {
   "cell_type": "code",
   "execution_count": 27,
   "metadata": {},
   "outputs": [
    {
     "data": {
      "text/plain": [
       "type lexeme = PO | PF | Op of op | Val of int\n"
      ]
     },
     "execution_count": 27,
     "metadata": {},
     "output_type": "execute_result"
    }
   ],
   "source": [
    "type lexeme = PO | PF | Op of op | Val of int"
   ]
  },
  {
   "cell_type": "code",
   "execution_count": 31,
   "metadata": {},
   "outputs": [
    {
     "data": {
      "text/plain": [
       "val prefixe : expr -> lexeme list = <fun>\n"
      ]
     },
     "execution_count": 31,
     "metadata": {},
     "output_type": "execute_result"
    }
   ],
   "source": [
    "let rec prefixe arbre = match arbre with\n",
    "    |C n -> [Val n]\n",
    "    |N (x,g,d) ->[PO] @ [Op x] @ prefixe g @ prefixe d @ [PF]"
   ]
  },
  {
   "cell_type": "code",
   "execution_count": 33,
   "metadata": {},
   "outputs": [
    {
     "data": {
      "text/plain": [
       "val postfixe : expr -> lexeme list = <fun>\n"
      ]
     },
     "execution_count": 33,
     "metadata": {},
     "output_type": "execute_result"
    }
   ],
   "source": [
    "let rec postfixe arbre = match arbre with\n",
    "    |C n -> [Val n]\n",
    "    |N (x,g,d) ->[PF]  @ prefixe g @ prefixe d @ [Op x] @[PO]"
   ]
  },
  {
   "cell_type": "code",
   "execution_count": 36,
   "metadata": {},
   "outputs": [
    {
     "data": {
      "text/plain": [
       "val infixe : expr -> lexeme list = <fun>\n"
      ]
     },
     "execution_count": 36,
     "metadata": {},
     "output_type": "execute_result"
    }
   ],
   "source": [
    "let rec infixe arbre = match arbre with\n",
    "    |C n -> [Val n]\n",
    "    |N (x,g,d) ->[PO]  @ prefixe g @ [PF ] @ [Op x] @ [PO]@ prefixe d @ [PF]"
   ]
  },
  {
   "cell_type": "markdown",
   "metadata": {},
   "source": [
    "### Exercice 6"
   ]
  },
  {
   "cell_type": "markdown",
   "metadata": {},
   "source": []
  },
  {
   "cell_type": "code",
   "execution_count": 39,
   "metadata": {},
   "outputs": [
    {
     "name": "stderr",
     "output_type": "stream",
     "text": [
      "File \"[39]\", line 4, characters 17-196:\n",
      "4 | .................match x with\n",
      "5 |             |Val w-> aux r ( w::v)\n",
      "6 |             |Op op -> match v with\n",
      "7 |                 |a::b::xs -> aux r ((applique op a b)::v)\n",
      "8 |                 |_ -> failwith \"error\"\n",
      "Warning 8: this pattern-matching is not exhaustive.\n",
      "Here is an example of a case that is not matched:\n",
      "(PO|PF)\n"
     ]
    },
    {
     "data": {
      "text/plain": [
       "val eval_post : lexeme list -> int = <fun>\n"
      ]
     },
     "execution_count": 39,
     "metadata": {},
     "output_type": "execute_result"
    }
   ],
   "source": [
    "let eval_post u = \n",
    "    let rec aux u v = match u with\n",
    "        |[] -> v\n",
    "        |x::r -> match x with\n",
    "            |Val w-> aux r ( w::v)\n",
    "            |Op op -> match v with\n",
    "                |a::b::xs -> aux r ((applique op a b)::v)\n",
    "                |_ -> failwith \"error\"\n",
    "    in List.hd (aux u []) ;;\n",
    "\n",
    "(* on a supposé qu'il n'y avait pas de parenthèses)"
   ]
  },
  {
   "cell_type": "markdown",
   "metadata": {},
   "source": [
    "### Exercice 7"
   ]
  },
  {
   "cell_type": "code",
   "execution_count": 43,
   "metadata": {},
   "outputs": [
    {
     "name": "stderr",
     "output_type": "stream",
     "text": [
      "File \"[43]\", line 4, characters 17-194:\n",
      "4 | .................match x with\n",
      "5 |             |Val w -> aux r ((C w)::v)\n",
      "6 |             |Op op -> match v with\n",
      "7 |                 |a::b::xs -> aux r ((N (op,a,b))::v)\n",
      "8 |                 |_-> failwith \"error\"\n",
      "Warning 8: this pattern-matching is not exhaustive.\n",
      "Here is an example of a case that is not matched:\n",
      "(PO|PF)\n"
     ]
    },
    {
     "data": {
      "text/plain": [
       "val arbre_of_post : lexeme list -> expr = <fun>\n"
      ]
     },
     "execution_count": 43,
     "metadata": {},
     "output_type": "execute_result"
    }
   ],
   "source": [
    "let arbre_of_post u = \n",
    "    let rec aux u v = match u with\n",
    "        |[] -> v\n",
    "        |x::r -> match x with\n",
    "            |Val w -> aux r ((C w)::v)\n",
    "            |Op op -> match v with\n",
    "                |a::b::xs -> aux r ((N (op,a,b))::v) (* c'est bien le bon ordre*)\n",
    "                |_-> failwith \"error\"\n",
    "    in List .hd (aux u []) ;;"
   ]
  },
  {
   "cell_type": "markdown",
   "metadata": {},
   "source": [
    "## Partie 3 - Expressions avec variables"
   ]
  },
  {
   "cell_type": "code",
   "execution_count": 44,
   "metadata": {},
   "outputs": [
    {
     "data": {
      "text/plain": [
       "type expr2 = N of op * expr2 * expr2 | C of int | V of int\n"
      ]
     },
     "execution_count": 44,
     "metadata": {},
     "output_type": "execute_result"
    }
   ],
   "source": [
    "type expr2 =\n",
    "  | N of op * expr2 * expr2\n",
    "  | C of int\n",
    "  | V of int"
   ]
  },
  {
   "cell_type": "markdown",
   "metadata": {},
   "source": [
    "### Exercice 8"
   ]
  },
  {
   "cell_type": "code",
   "execution_count": 45,
   "metadata": {},
   "outputs": [
    {
     "data": {
      "text/plain": [
       "val max_var : expr2 -> int = <fun>\n"
      ]
     },
     "execution_count": 45,
     "metadata": {},
     "output_type": "execute_result"
    }
   ],
   "source": [
    "let rec max_var expr = match expr with\n",
    "    |C n -> min_int\n",
    "    |V n -> n\n",
    "    |N (op,g,d) -> max (max_var g) (max_var d) ;;"
   ]
  },
  {
   "cell_type": "code",
   "execution_count": 46,
   "metadata": {},
   "outputs": [
    {
     "data": {
      "text/plain": [
       "val eval_contexte : expr2 -> int array -> int = <fun>\n"
      ]
     },
     "execution_count": 46,
     "metadata": {},
     "output_type": "execute_result"
    }
   ],
   "source": [
    "let rec eval_contexte expr v = let i = max_var expr in\n",
    "    match expr with\n",
    "    |V k -> v.(k)\n",
    "    |C n  -> n\n",
    "    |N (op,g,d) -> applique op (eval_contexte g v ) (eval_contexte d v ) ;;"
   ]
  },
  {
   "cell_type": "markdown",
   "metadata": {},
   "source": [
    "### Exercice 9"
   ]
  },
  {
   "cell_type": "markdown",
   "metadata": {},
   "source": [
    "dans ce cas-ci, l'expression n'est constitué que de noeuds et de feuilles donnée par le constructeur C"
   ]
  },
  {
   "cell_type": "code",
   "execution_count": 51,
   "metadata": {},
   "outputs": [
    {
     "data": {
      "text/plain": [
       "val eval_partielle : expr2 -> int array -> expr2 = <fun>\n"
      ]
     },
     "execution_count": 51,
     "metadata": {},
     "output_type": "execute_result"
    }
   ],
   "source": [
    "let rec eval_partielle expr v = match expr with\n",
    "    |C n -> C n\n",
    "    |V k -> if k < Array.length v then C v.(k) else V k\n",
    "    | N (op,g,d) -> N (op, eval_partielle g v, eval_partielle d v)"
   ]
  },
  {
   "cell_type": "markdown",
   "metadata": {},
   "source": [
    "## Partie 4 - Forme normale pour l'associativité"
   ]
  },
  {
   "cell_type": "code",
   "execution_count": 52,
   "metadata": {},
   "outputs": [
    {
     "data": {
      "text/plain": [
       "type op = Plus | Fois\n"
      ]
     },
     "execution_count": 52,
     "metadata": {},
     "output_type": "execute_result"
    },
    {
     "data": {
      "text/plain": [
       "type expr3 = C of int | V of int | N of op * expr3 * expr3\n"
      ]
     },
     "execution_count": 52,
     "metadata": {},
     "output_type": "execute_result"
    },
    {
     "data": {
      "text/plain": [
       "type expr_naire = Cn of int | Vn of int | Nn of op * expr_naire list\n"
      ]
     },
     "execution_count": 52,
     "metadata": {},
     "output_type": "execute_result"
    }
   ],
   "source": [
    "type op = Plus | Fois\n",
    "\n",
    "type expr3 =\n",
    "  | C of int\n",
    "  | V of int\n",
    "  | N of op * expr3 * expr3\n",
    "\n",
    "type expr_naire =\n",
    "  | Cn of int\n",
    "  | Vn of int\n",
    "  | Nn of op * expr_naire list"
   ]
  },
  {
   "cell_type": "markdown",
   "metadata": {},
   "source": [
    "### Exercice 10"
   ]
  },
  {
   "cell_type": "code",
   "execution_count": 81,
   "metadata": {},
   "outputs": [
    {
     "data": {
      "text/plain": [
       "val recup1 : expr3 -> op option = <fun>\n"
      ]
     },
     "execution_count": 81,
     "metadata": {},
     "output_type": "execute_result"
    },
    {
     "data": {
      "text/plain": [
       "val recup2 : expr_naire -> expr_naire list = <fun>\n"
      ]
     },
     "execution_count": 81,
     "metadata": {},
     "output_type": "execute_result"
    },
    {
     "name": "stderr",
     "output_type": "stream",
     "text": [
      "File \"[81]\", line 11, characters 4-58:\n",
      "11 | ....match a with\n",
      "12 |         |C n -> Cn n\n",
      "13 |         |V n -> Vn n\n",
      "Warning 8: this pattern-matching is not exhaustive.\n",
      "Here is an example of a case that is not matched:\n",
      "N (_, _, _)\n"
     ]
    },
    {
     "data": {
      "text/plain": [
       "val remet : expr3 -> expr_naire = <fun>\n"
      ]
     },
     "execution_count": 81,
     "metadata": {},
     "output_type": "execute_result"
    },
    {
     "data": {
      "text/plain": [
       "val normalise : expr3 -> expr_naire = <fun>\n"
      ]
     },
     "execution_count": 81,
     "metadata": {},
     "output_type": "execute_result"
    }
   ],
   "source": [
    "let recup1 a = match a with\n",
    "    |N (op,g,d) -> Some op\n",
    "    |_ -> None\n",
    "\n",
    "let recup2 a = \n",
    "    match a with\n",
    "    |Nn (op,u) ->u\n",
    "    |_ -> []\n",
    "\n",
    "let remet a=\n",
    "    match a with\n",
    "        |C n -> Cn n\n",
    "        |V n -> Vn n\n",
    "        \n",
    "let rec normalise expr = match expr with\n",
    "    |C n -> Cn n\n",
    "    |V n -> Vn n\n",
    "    |N (op,g,d) -> match recup1 g,recup1 d with\n",
    "        |Some x, Some y when x=y && x=op -> let p,q = normalise g, normalise d in Nn (op, (recup2 p) @ (recup2 q)) (* le type est bien une liste car on a un noeud*)\n",
    "        |Some x,Some y -> Nn (op,[normalise g;normalise d])\n",
    "        |None, Some y -> let p = normalise d in Nn (op , (remet g)::(recup2 p))\n",
    "        |Some x, None -> let p = normalise g in Nn (op, (remet d)::(recup2 p))\n",
    "        |None , None -> Nn (op, [remet g; remet d])"
   ]
  },
  {
   "cell_type": "code",
   "execution_count": 80,
   "metadata": {},
   "outputs": [
    {
     "data": {
      "text/plain": [
       "val a_normaliser : expr3 =\n",
       "  N (Plus, N (Plus, N (Plus, V 3, V 4), N (Fois, V 5, V 6)),\n",
       "   N (Fois, N (Plus, V 7, N (Fois, V 8, V 9)), N (Fois, V 11, V 12)))\n"
      ]
     },
     "execution_count": 80,
     "metadata": {},
     "output_type": "execute_result"
    },
    {
     "data": {
      "text/plain": [
       "- : expr_naire =\n",
       "Nn (Plus,\n",
       " [Nn (Plus, [Nn (Plus, [Vn 3; Vn 4]); Nn (Fois, [Vn 5; Vn 6])]);\n",
       "  Nn (Fois, [Nn (Plus, [Vn 7; Vn 8; Vn 9]); Nn (Fois, [Vn 11; Vn 12])])])\n"
      ]
     },
     "execution_count": 80,
     "metadata": {},
     "output_type": "execute_result"
    }
   ],
   "source": [
    "let a_normaliser =\n",
    "  N (Plus, \n",
    "     N (Plus, \n",
    "        N (Plus, \n",
    "           V 3, \n",
    "           V 4), \n",
    "        N (Fois, \n",
    "           V 5, \n",
    "           V 6)), \n",
    "     N (Fois, \n",
    "        N (Plus,\n",
    "           V 7,\n",
    "           N (Fois,\n",
    "              V 8,\n",
    "              V 9)),\n",
    "        N (Fois,\n",
    "           V 11,\n",
    "           V 12))) ;;\n",
    "\n",
    "normalise a_normaliser"
   ]
  },
  {
   "cell_type": "code",
   "execution_count": 78,
   "metadata": {},
   "outputs": [
    {
     "ename": "error",
     "evalue": "runtime_error",
     "output_type": "error",
     "traceback": [
      "\u001b[31mException: Assert_failure (\"[78]\", 1, 0).\nCalled from file \"toplevel/toploop.ml\", line 208, characters 17-27\n\u001b[0m"
     ]
    }
   ],
   "source": [
    "assert (normalise a_normaliser = \n",
    "    Nn (Plus, [Vn 3; \n",
    "               Vn 4; \n",
    "               Nn (Fois, [Vn 5; Vn 6]);\n",
    "               Nn (Fois, [Nn (Plus, [Vn 7; \n",
    "                                     Nn (Fois, [Vn 8; Vn 9])]); \n",
    "                          Vn 11; \n",
    "                          Vn 12])]))"
   ]
  },
  {
   "cell_type": "code",
   "execution_count": null,
   "metadata": {},
   "outputs": [],
   "source": []
  },
  {
   "cell_type": "code",
   "execution_count": null,
   "metadata": {},
   "outputs": [],
   "source": []
  }
 ],
 "metadata": {
  "kernelspec": {
   "display_name": "OCaml 4.08.1+flambda",
   "language": "OCaml",
   "name": "ocaml-jupyter"
  },
  "language_info": {
   "codemirror_mode": "text/x-ocaml",
   "file_extension": ".ml",
   "mimetype": "text/x-ocaml",
   "name": "OCaml",
   "nbconverter_exporter": null,
   "pygments_lexer": "OCaml",
   "version": "4.08.1"
  }
 },
 "nbformat": 4,
 "nbformat_minor": 4
}
