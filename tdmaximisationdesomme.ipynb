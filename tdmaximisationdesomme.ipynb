{
 "cells": [
  {
   "cell_type": "markdown",
   "metadata": {},
   "source": [
    "# TD 17 - Maximisation d'une somme"
   ]
  },
  {
   "cell_type": "code",
   "execution_count": 14,
   "metadata": {},
   "outputs": [
    {
     "data": {
      "text/plain": [
       "val m1 : int array array =\n",
       "  [|[|7; 53; 183; 439; 863|]; [|497; 383; 563; 79; 973|];\n",
       "    [|287; 63; 343; 169; 583|]; [|627; 343; 773; 959; 943|];\n",
       "    [|767; 473; 103; 699; 303|]|]\n"
      ]
     },
     "execution_count": 14,
     "metadata": {},
     "output_type": "execute_result"
    },
    {
     "data": {
      "text/plain": [
       "val m2 : int array array =\n",
       "  [|[|7; 53; 183; 439; 863; 497; 383; 563; 79; 973; 287; 63; 343; 169; 583|];\n",
       "    [|627; 343; 773; 959; 943; 767; 473; 103; 699; 303; 957; 703; 583; 639;\n",
       "      913|];\n",
       "    [|447; 283; 463; 29; 23; 487; 463; 993; 119; 883; 327; 493; 423; 159;\n",
       "      743|];\n",
       "    [|217; 623; 3; 399; 853; 407; 103; 983; 89; 463; 290; 516; 212; 462;\n",
       "      350|];\n",
       "    [|960; 376; 682; 962; 300; 780; 486; 502; 912; 800; 250; 346; 172; 812;\n",
       "      350|];\n",
       "    [|870; 456; 192; 162; 593; 473; 915; 45; 989; 873; 823; 965; 425; 329;\n",
       "      803|];\n",
       "    [|973; 965; 905; 919; 133; 673; 665; 235; 509; 613; 673; 815; 165; 992;\n",
       "      326|];\n",
       "    [|322; 148; 972; 962; 286; 255; 941; 541; 265; 323; 925; 281; 601; 95;\n",
       "      973|];\n",
       "    [|445; 721; 11; 525; 473; 65; 511; 164; 138; 672; 18; 428; 154; 448;\n",
       "      848|];\n",
       "    [|414; 456; 310; 312; 798; 104; 566; 520; 302; 248; 694; 976; 430; 392;\n",
       "      198|];\n",
       "    [|184; 829; 373; 181; 631; 101; 969; 613; 840; 740; 778; 458; 284; 760;\n",
       "      390|];\n",
       "    [|821; 461; 843; 513; 17; 901; 711; 993; 293; 157; 274; 94; 192; 156;\n",
       "      574|];\n",
       "    [|34; 124; 4; 878; 450; 476; 712; 914; 838; 669; 875; 299; 823; 329;\n",
       "      699|];\n",
       "    [|815; 559; 813; 459; 522; 788; 168; 586; 966; 232; 308; 833; 251; 631;\n",
       "      107|];\n",
       "    [|813; 883; 451; 509; 615; 77; 281; 613; 459; 205; 380; 274; 302; 35;\n",
       "      805|]|]\n"
      ]
     },
     "execution_count": 14,
     "metadata": {},
     "output_type": "execute_result"
    }
   ],
   "source": [
    "let m1 = [|\n",
    " [|7;  53; 183; 439; 863 |];\n",
    " [|497; 383; 563;  79; 973 |];\n",
    " [|287;  63; 343; 169; 583 |];\n",
    " [|627; 343; 773; 959; 943 |];\n",
    " [|767; 473; 103; 699; 303 |]\n",
    "|]\n",
    "\n",
    "let m2 = [|\n",
    " [|  7; 53;183;439;863;497;383;563; 79;973;287; 63;343;169;583|];\n",
    " [|627;343;773;959;943;767;473;103;699;303;957;703;583;639;913|];\n",
    " [|447;283;463; 29; 23;487;463;993;119;883;327;493;423;159;743|];\n",
    " [|217;623;  3;399;853;407;103;983; 89;463;290;516;212;462;350|];\n",
    " [|960;376;682;962;300;780;486;502;912;800;250;346;172;812;350|];\n",
    " [|870;456;192;162;593;473;915; 45;989;873;823;965;425;329;803|];\n",
    " [|973;965;905;919;133;673;665;235;509;613;673;815;165;992;326|];\n",
    " [|322;148;972;962;286;255;941;541;265;323;925;281;601; 95;973|];\n",
    " [|445;721; 11;525;473; 65;511;164;138;672; 18;428;154;448;848|];\n",
    " [|414;456;310;312;798;104;566;520;302;248;694;976;430;392;198|];\n",
    " [|184;829;373;181;631;101;969;613;840;740;778;458;284;760;390|];\n",
    " [|821;461;843;513; 17;901;711;993;293;157;274; 94;192;156;574|];\n",
    " [| 34;124;  4;878;450;476;712;914;838;669;875;299;823;329;699|];\n",
    " [|815;559;813;459;522;788;168;586;966;232;308;833;251;631;107|];\n",
    " [|813;883;451;509;615; 77;281;613;459;205;380;274;302; 35;805|];\n",
    "|]"
   ]
  },
  {
   "cell_type": "markdown",
   "metadata": {},
   "source": [
    "## Partie 2 - Algorithme naïf"
   ]
  },
  {
   "cell_type": "markdown",
   "metadata": {},
   "source": [
    "papier"
   ]
  },
  {
   "cell_type": "markdown",
   "metadata": {},
   "source": [
    "## Partie 3 - Récursion naïve"
   ]
  },
  {
   "cell_type": "markdown",
   "metadata": {},
   "source": [
    "### Exercice 2"
   ]
  },
  {
   "cell_type": "code",
   "execution_count": 46,
   "metadata": {},
   "outputs": [
    {
     "data": {
      "text/plain": [
       "val range : int -> int -> int list = <fun>\n"
      ]
     },
     "execution_count": 46,
     "metadata": {},
     "output_type": "execute_result"
    },
    {
     "data": {
      "text/plain": [
       "val prive_de : 'a list -> 'a -> 'a list = <fun>\n"
      ]
     },
     "execution_count": 46,
     "metadata": {},
     "output_type": "execute_result"
    },
    {
     "data": {
      "text/plain": [
       "val max_lise : int list -> int = <fun>\n"
      ]
     },
     "execution_count": 46,
     "metadata": {},
     "output_type": "execute_result"
    },
    {
     "data": {
      "text/plain": [
       "val eval : int array array -> int list -> int = <fun>\n"
      ]
     },
     "execution_count": 46,
     "metadata": {},
     "output_type": "execute_result"
    },
    {
     "data": {
      "text/plain": [
       "val matrix_sum : int array array -> int = <fun>\n"
      ]
     },
     "execution_count": 46,
     "metadata": {},
     "output_type": "execute_result"
    },
    {
     "data": {
      "text/plain": [
       "- : int = 3315\n"
      ]
     },
     "execution_count": 46,
     "metadata": {},
     "output_type": "execute_result"
    }
   ],
   "source": [
    "let rec range a b = if a=b then [] else a::(range (a+1) b)\n",
    "\n",
    "let rec prive_de u x = match u with\n",
    "    |[]-> []\n",
    "    |a::r -> if a=x then r else a::( prive_de r x) ;;\n",
    "\n",
    "\n",
    "\n",
    "let max_lise u = List.fold_right max u min_int ;;\n",
    "\n",
    "let rec eval m s= \n",
    "    if s=[] then 0 else \n",
    "    let maxi=ref 0 in\n",
    "    let n = List.length s -1 in \n",
    "    let acc = ref s in\n",
    "    for k=0 to n do\n",
    "        match !acc with \n",
    "            |[]->()\n",
    "            |x::r -> begin maxi := max (!maxi) (m.(n).(x) + eval m (prive_de s x)) ; acc := r end\n",
    "    done ; !maxi \n",
    "   \n",
    "    \n",
    "let rec matrix_sum m =  eval m (range 0 (Array.length m)) ;;\n",
    "\n",
    "matrix_sum m1"
   ]
  },
  {
   "cell_type": "markdown",
   "metadata": {},
   "source": [
    "### Exercice 3"
   ]
  },
  {
   "cell_type": "code",
   "execution_count": 7,
   "metadata": {},
   "outputs": [
    {
     "data": {
      "text/plain": [
       "val max_lise : int list -> int = <fun>\n"
      ]
     },
     "execution_count": 7,
     "metadata": {},
     "output_type": "execute_result"
    }
   ],
   "source": [
    "raisonnement sur papier"
   ]
  },
  {
   "cell_type": "markdown",
   "metadata": {},
   "source": [
    "## Partie 4 - Programmation dynamique"
   ]
  },
  {
   "cell_type": "code",
   "execution_count": 64,
   "metadata": {},
   "outputs": [
    {
     "data": {
      "text/plain": [
       "val eval_mem :\n",
       "  int array array -> int list -> (int list, int) Hashtbl.t -> int = <fun>\n"
      ]
     },
     "execution_count": 64,
     "metadata": {},
     "output_type": "execute_result"
    },
    {
     "data": {
      "text/plain": [
       "val matrix_sumbis : int array array -> int = <fun>\n"
      ]
     },
     "execution_count": 64,
     "metadata": {},
     "output_type": "execute_result"
    },
    {
     "data": {
      "text/plain": [
       "- : int = 13938\n"
      ]
     },
     "execution_count": 64,
     "metadata": {},
     "output_type": "execute_result"
    }
   ],
   "source": [
    "let rec eval_mem m s t = \n",
    "    if Hashtbl.mem t s then Hashtbl.find t s\n",
    "    else \n",
    "        if s=[] then begin Hashtbl.add t [] 0 ; 0 end \n",
    "    else \n",
    "    let maxi=ref 0 in\n",
    "    let n = List.length s -1 in \n",
    "    let acc = ref s in\n",
    "    for k=0 to n do\n",
    "        match !acc with \n",
    "            |[]->()\n",
    "            |x::r -> begin \n",
    "                maxi := max (!maxi) (m.(n).(x) + eval_mem m (prive_de s x) t ); acc := r \n",
    "                        end\n",
    "    done ; Hashtbl.add t s (!maxi) ; !maxi ;;\n",
    "\n",
    "let matrix_sumbis m = \n",
    "    let t = Hashtbl.create (1 lsl Array.length m)\n",
    "    in eval_mem m (range 0 (Array.length m)) t ;;\n",
    " \n",
    "matrix_sumbis m2 ;;"
   ]
  },
  {
   "cell_type": "markdown",
   "metadata": {},
   "source": [
    "## Partie 5 - Optimisation"
   ]
  },
  {
   "cell_type": "code",
   "execution_count": 72,
   "metadata": {},
   "outputs": [
    {
     "data": {
      "text/plain": [
       "val calcul : int list -> int = <fun>\n"
      ]
     },
     "execution_count": 72,
     "metadata": {},
     "output_type": "execute_result"
    },
    {
     "name": "stderr",
     "output_type": "stream",
     "text": [
      "File \"[72]\", line 5, characters 14-43:\n",
      "5 | ..............match a with\n",
      "6 |     |Some x -> x\n",
      "Warning 8: this pattern-matching is not exhaustive.\n",
      "Here is an example of a case that is not matched:\n",
      "None\n"
     ]
    },
    {
     "data": {
      "text/plain": [
       "val recup : 'a option -> 'a = <fun>\n"
      ]
     },
     "execution_count": 72,
     "metadata": {},
     "output_type": "execute_result"
    }
   ],
   "source": [
    "let rec calcul s = match s with\n",
    "    |[] -> 0\n",
    "    |x::r -> 1 lsl x + calcul r ;;\n",
    "\n",
    "let recup a = match a with\n",
    "    |Some x -> x"
   ]
  },
  {
   "cell_type": "code",
   "execution_count": 84,
   "metadata": {},
   "outputs": [
    {
     "data": {
      "text/plain": [
       "val eval_bisbis : int array array -> int list -> int option array -> int =\n",
       "  <fun>\n"
      ]
     },
     "execution_count": 84,
     "metadata": {},
     "output_type": "execute_result"
    },
    {
     "data": {
      "text/plain": [
       "val matrix_sumbisbis : int array array -> int = <fun>\n"
      ]
     },
     "execution_count": 84,
     "metadata": {},
     "output_type": "execute_result"
    },
    {
     "data": {
      "text/plain": [
       "- : int = 13938\n"
      ]
     },
     "execution_count": 84,
     "metadata": {},
     "output_type": "execute_result"
    }
   ],
   "source": [
    "let rec eval_bisbis m s t = let q = calcul s in let peutetre = t.(q) in\n",
    "    if peutetre <> None then recup peutetre\n",
    "    else \n",
    "        if q=0 then begin t.(0) <-Some 0 ; 0 end \n",
    "    else \n",
    "    let maxi=ref 0 in\n",
    "    let n = List.length s -1 in \n",
    "    let acc = ref s in\n",
    "    for k=0 to n do\n",
    "        match !acc with \n",
    "            |[]->()\n",
    "            |x::r -> begin \n",
    "                maxi := max (!maxi) (m.(n).(x) + eval_bisbis m (prive_de s x) t ); acc := r \n",
    "                        end\n",
    "    done ; t.(q ) <- Some (!maxi) ; !maxi ;;\n",
    "\n",
    "let matrix_sumbisbis m = \n",
    "    let t = Array.make (1 lsl Array.length m) (None)\n",
    "    in eval_bisbis m (range 0 (Array.length m)) t ;;\n",
    " \n",
    "matrix_sumbisbis m2 ;; (* version parfaite complète*)"
   ]
  },
  {
   "cell_type": "code",
   "execution_count": null,
   "metadata": {},
   "outputs": [],
   "source": []
  },
  {
   "cell_type": "code",
   "execution_count": null,
   "metadata": {},
   "outputs": [],
   "source": []
  },
  {
   "cell_type": "code",
   "execution_count": null,
   "metadata": {},
   "outputs": [],
   "source": [
    "## Partie Bonus : Projet Euler"
   ]
  },
  {
   "cell_type": "markdown",
   "metadata": {},
   "source": [
    "## Projet Euler 92\n"
   ]
  },
  {
   "cell_type": "code",
   "execution_count": 86,
   "metadata": {},
   "outputs": [
    {
     "data": {
      "text/plain": [
       "val somme_carre : int -> int = <fun>\n"
      ]
     },
     "execution_count": 86,
     "metadata": {},
     "output_type": "execute_result"
    }
   ],
   "source": [
    "let somme_carre n =\n",
    "    let a = ref n in\n",
    "    let s = ref 0 in\n",
    "    while !a>0 do\n",
    "        let q = !a mod 10 in\n",
    "        s:= !s + q*q ; a:= (!a)/10\n",
    "    done ; !s ;;\n"
   ]
  },
  {
   "cell_type": "code",
   "execution_count": 100,
   "metadata": {},
   "outputs": [
    {
     "data": {
      "text/plain": [
       "val rajoute : int list -> bool array -> unit = <fun>\n"
      ]
     },
     "execution_count": 100,
     "metadata": {},
     "output_type": "execute_result"
    },
    {
     "data": {
      "text/plain": [
       "val isdanscycle : 'a list -> 'a -> bool = <fun>\n"
      ]
     },
     "execution_count": 100,
     "metadata": {},
     "output_type": "execute_result"
    }
   ],
   "source": [
    "let rec rajoute u t = match u with\n",
    "    |[] -> ()\n",
    "    |x::r -> t.(x)<- true ; rajoute r t\n",
    "\n",
    "let rec isdanscycle u x = (* on utilisera une structure de données pour savoir si on est déjà passé par x, on fait une version naïve d'abord*)\n",
    "    match u with\n",
    "        |[] -> false\n",
    "        |a::r -> a=x  || isdanscycle r x ;;"
   ]
  },
  {
   "cell_type": "code",
   "execution_count": 110,
   "metadata": {},
   "outputs": [
    {
     "data": {
      "text/plain": [
       "val test : int -> bool array -> bool = <fun>\n"
      ]
     },
     "execution_count": 110,
     "metadata": {},
     "output_type": "execute_result"
    },
    {
     "data": {
      "text/plain": [
       "val under_nb_qui_donnent_sur_89 : int -> int = <fun>\n"
      ]
     },
     "execution_count": 110,
     "metadata": {},
     "output_type": "execute_result"
    }
   ],
   "source": [
    "let test n t =\n",
    "    (*t va stocker les nombres que l'on a déjà vu auparavant, ce sera un bool option Array, t.(i) vaut true si et seulement si true est déjà vu et donne sur 89 et ne fonctionne donc pas*) \n",
    "    (* il va falloir qu'on regarde si on ne tombe pas sur un cycle*)\n",
    "    let rec aux n t v = \n",
    "    if n = 89 then true \n",
    "    else if t.(n)=true then true\n",
    "    else if isdanscycle v n then false\n",
    "    else let q = somme_carre n in aux q t (q::v) \n",
    "    in aux n t [] ;;\n",
    "\n",
    "let under_nb_qui_donnent_sur_89 nb =\n",
    "    let t = Array.make (1000*nb) false in\n",
    "    let s = ref 0 in\n",
    "    for n = 0 to nb do\n",
    "        let q = test n t in if q then s:=!s+1 ; t.(n)<- q\n",
    "    done; !s ;;\n",
    "        "
   ]
  },
  {
   "cell_type": "code",
   "execution_count": 117,
   "metadata": {},
   "outputs": [
    {
     "data": {
      "text/plain": [
       "- : int = 5001\n"
      ]
     },
     "execution_count": 117,
     "metadata": {},
     "output_type": "execute_result"
    }
   ],
   "source": [
    "under_nb_qui_donnent_sur_89 1000"
   ]
  },
  {
   "cell_type": "markdown",
   "metadata": {},
   "source": [
    "## Projet Euler 86"
   ]
  },
  {
   "cell_type": "code",
   "execution_count": null,
   "metadata": {},
   "outputs": [],
   "source": []
  }
 ],
 "metadata": {
  "kernelspec": {
   "display_name": "OCaml 4.08.1+flambda",
   "language": "OCaml",
   "name": "ocaml-jupyter"
  },
  "language_info": {
   "codemirror_mode": "text/x-ocaml",
   "file_extension": ".ml",
   "mimetype": "text/x-ocaml",
   "name": "OCaml",
   "nbconverter_exporter": null,
   "pygments_lexer": "OCaml",
   "version": "4.08.1"
  }
 },
 "nbformat": 4,
 "nbformat_minor": 4
}