{
 "cells": [
  {
   "cell_type": "markdown",
   "metadata": {},
   "source": [
    "# Diviser pour régner"
   ]
  },
  {
   "cell_type": "markdown",
   "metadata": {},
   "source": [
    "## Exercice 1 - Quickselect"
   ]
  },
  {
   "cell_type": "code",
   "execution_count": 3,
   "metadata": {},
   "outputs": [
    {
     "data": {
      "text/plain": [
       "val swap : 'a array -> int -> int -> unit = <fun>\n"
      ]
     },
     "execution_count": 3,
     "metadata": {},
     "output_type": "execute_result"
    }
   ],
   "source": [
    "let swap t i j = let k = t.(i) in t.(i)<-t.(j); t.(j)<-k ; "
   ]
  },
  {
   "cell_type": "code",
   "execution_count": 7,
   "metadata": {},
   "outputs": [
    {
     "data": {
      "text/plain": [
       "val partitionne : 'a array -> int -> int -> int -> int = <fun>\n"
      ]
     },
     "execution_count": 7,
     "metadata": {},
     "output_type": "execute_result"
    }
   ],
   "source": [
    "let partitionne t deb fin piv = \n",
    "    let u= t.(piv) in \n",
    "    swap t piv fin ;\n",
    "    let i = ref deb in let j = ref deb in\n",
    "    while !j<fin do \n",
    "        if t.(!j)<=u then (swap t (!j) (!i) ; i:= !i +1) ; j := !j+1\n",
    "    done\n",
    "    ; swap t (!i) fin ; !i"
   ]
  },
  {
   "cell_type": "code",
   "execution_count": 15,
   "metadata": {},
   "outputs": [
    {
     "data": {
      "text/plain": [
       "val select : 'a array -> int -> 'a = <fun>\n"
      ]
     },
     "execution_count": 15,
     "metadata": {},
     "output_type": "execute_result"
    }
   ],
   "source": [
    "let select t k = \n",
    "    let rec aux t a b k = \n",
    "        let n = Array.length t -1 in \n",
    "        let x = partitionne t a b (n/2) in\n",
    "        if x<k then aux t a x k else if x>k then aux t x b k else t.(x) (* x<k correspond au cas où les x premiers sont tous plus petits que ce que l'on veut, l'autre cas c'est l'inverse, et le dernier est le cas c'est là où à gauche et à droite sont bien mis*)\n",
    "    in aux t 0 (Array.length t -1) k"
   ]
  },
  {
   "cell_type": "markdown",
   "metadata": {},
   "source": [
    "#### Test\n",
    "\n",
    "L'exécution de `teste_1 ()` doit renvoyer `unit`. Si vous obtenez une exception, c'est qu'il y a un problème."
   ]
  },
  {
   "cell_type": "code",
   "execution_count": 43,
   "metadata": {},
   "outputs": [
    {
     "data": {
      "text/plain": [
       "val tab_alea : int -> int -> int array = <fun>\n"
      ]
     },
     "execution_count": 43,
     "metadata": {},
     "output_type": "execute_result"
    },
    {
     "data": {
      "text/plain": [
       "val teste_1 : unit -> unit = <fun>\n"
      ]
     },
     "execution_count": 43,
     "metadata": {},
     "output_type": "execute_result"
    }
   ],
   "source": [
    "let tab_alea taille borne =\n",
    "  Array.init taille (fun i -> Random.int borne)\n",
    "\n",
    "let teste_1 () =\n",
    "  for i = 1 to 100 do\n",
    "    let taille = 1 + Random.int 100 in\n",
    "    let t = tab_alea taille 50 in\n",
    "    let u = Array.copy t in\n",
    "    Array.sort compare u;\n",
    "    assert (u = Array.init taille (fun i -> select t i)) \n",
    "  done               "
   ]
  },
  {
   "cell_type": "markdown",
   "metadata": {},
   "source": [
    "### Question 4"
   ]
  },
  {
   "cell_type": "markdown",
   "metadata": {},
   "source": [
    "(*si tout se passe bien, O(nlogn), sinon la liste est déjà triée et O(n²) (triangulaire)*)"
   ]
  },
  {
   "cell_type": "markdown",
   "metadata": {},
   "source": [
    "## Exercice 2 - Nombre d'inversions"
   ]
  },
  {
   "cell_type": "markdown",
   "metadata": {},
   "source": [
    "### Question 1"
   ]
  },
  {
   "cell_type": "code",
   "execution_count": null,
   "metadata": {},
   "outputs": [],
   "source": [
    "let rec separe u v = "
   ]
  },
  {
   "cell_type": "markdown",
   "metadata": {},
   "source": [
    "### Question 2"
   ]
  },
  {
   "cell_type": "code",
   "execution_count": null,
   "metadata": {},
   "outputs": [],
   "source": []
  },
  {
   "cell_type": "markdown",
   "metadata": {},
   "source": [
    "### Question 3"
   ]
  },
  {
   "cell_type": "markdown",
   "metadata": {},
   "source": []
  },
  {
   "cell_type": "markdown",
   "metadata": {},
   "source": [
    "### Question 4"
   ]
  },
  {
   "cell_type": "code",
   "execution_count": 93,
   "metadata": {},
   "outputs": [
    {
     "ename": "error",
     "evalue": "compile_error",
     "output_type": "error",
     "traceback": [
      "File \"[93]\", line 14, characters 4-6:\n14 |     in aux u v (List.length u);;\n         ^^\nError: Syntax error: operator expected.\n"
     ]
    }
   ],
   "source": [
    "let split u = \n",
    "    let rec aux u n v = match u with\n",
    "        |[]-> ([],[])\n",
    "        |x::r -> if n >= v then ([],u) else let a,b = aux r (n+1) v in (x::a,b) \n",
    "    in aux u 0 ((List.length u)/2);;\n",
    "\n",
    "(* on calcule une fois la longueur de u et ensuite on peut faire des -1 +1 *)\n",
    "let fusion u v = \n",
    "    let rec aux u v n = match u,v with (*n compte là où on est au niveau de u*)\n",
    "    |[],_ -> (v,0)\n",
    "    |_,[] -> (u,0)\n",
    "    |x::r,y::rr -> if x<=y then let a,b=aux r v (n-1) in (y::a,b)\n",
    "    else let a,b= aux u rr n  in (x::a, n+b) ((* on dit que les n qui restent vont produire des inversions*)\n",
    "    in aux u v (List.length u);;\n",
    "\n",
    "\n",
    "let rec nb_inv u = match u with\n",
    "    |[] -> 0\n",
    "    |[x] -> 0\n",
    "    |[x,y] -> if x>y then 1 else 0\n",
    "    |_ -> let a,b = split u in nb_inv a + nb_inv b + fusion a b ;;"
   ]
  },
  {
   "cell_type": "markdown",
   "metadata": {},
   "source": [
    "### Test\n",
    "\n",
    "L'exécution doit être instantanée ou presque, si cela prend plusieurs secondes c'est que vous n'avez pas la bonne complexité."
   ]
  },
  {
   "cell_type": "code",
   "execution_count": 84,
   "metadata": {},
   "outputs": [
    {
     "data": {
      "text/plain": [
       "val teste_2 : unit -> unit = <fun>\n"
      ]
     },
     "execution_count": 84,
     "metadata": {},
     "output_type": "execute_result"
    }
   ],
   "source": [
    "let teste_2 () = \n",
    "    assert (nb_inv [1; 2; 3; 4] = 0);\n",
    "    assert (nb_inv [4; 3; 2; 1] = 6);\n",
    "    assert (nb_inv [5; 3; 1; 2; 7; 4; 5; 0; 2] = 20);\n",
    "    assert (nb_inv (List.init 50000 (fun i -> (i * i) mod 100)) = 592477500)"
   ]
  },
  {
   "cell_type": "code",
   "execution_count": 90,
   "metadata": {},
   "outputs": [
    {
     "ename": "error",
     "evalue": "compile_error",
     "output_type": "error",
     "traceback": [
      "File \"[90]\", line 1, characters 7-42:\n1 | fusion (split [5; 3; 1; 2; 7; 4; 5; 0; 2])\n           ^^^^^^^^^^^^^^^^^^^^^^^^^^^^^^^^^^^\nError: This expression has type int list * int list\n       but an expression was expected of type 'a list\n"
     ]
    }
   ],
   "source": []
  },
  {
   "cell_type": "markdown",
   "metadata": {},
   "source": [
    "## Exercice 3 - Paire la plus proche"
   ]
  },
  {
   "cell_type": "markdown",
   "metadata": {},
   "source": [
    "Certains arguments sont délicats à formaliser complètement, et des dessins s'imposent : inutile de chercher à rédiger complètement sur ordinateur."
   ]
  },
  {
   "cell_type": "code",
   "execution_count": 9,
   "metadata": {},
   "outputs": [
    {
     "data": {
      "text/plain": [
       "val naif : 'a -> 'b = <fun>\n"
      ]
     },
     "execution_count": 9,
     "metadata": {},
     "output_type": "execute_result"
    }
   ],
   "source": [
    "let rec naif u = failwith \"todo\""
   ]
  },
  {
   "cell_type": "code",
   "execution_count": 12,
   "metadata": {},
   "outputs": [
    {
     "data": {
      "text/plain": [
       "val exemple : (float * float) list =\n",
       "  [(1., 2.); (3., 5.); (0., 0.); (2., 6.); (8., 10.); (5., 0.); (11., 3.);\n",
       "   (4., 4.)]\n"
      ]
     },
     "execution_count": 12,
     "metadata": {},
     "output_type": "execute_result"
    },
    {
     "data": {
      "text/plain": [
       "val teste_naif : unit -> unit = <fun>\n"
      ]
     },
     "execution_count": 12,
     "metadata": {},
     "output_type": "execute_result"
    }
   ],
   "source": [
    "let exemple = \n",
    "    [(1., 2.); (3., 5.); (0., 0.); (2., 6.); (8., 10.); (5., 0.); (11., 3.); (4., 4.)]\n",
    "\n",
    "let teste_naif () =\n",
    "  assert (naif exemple = sqrt 2.)"
   ]
  },
  {
   "cell_type": "code",
   "execution_count": null,
   "metadata": {},
   "outputs": [],
   "source": []
  },
  {
   "cell_type": "markdown",
   "metadata": {},
   "source": [
    "### Question 2"
   ]
  },
  {
   "cell_type": "markdown",
   "metadata": {},
   "source": []
  },
  {
   "cell_type": "markdown",
   "metadata": {},
   "source": [
    "### Question 3"
   ]
  },
  {
   "cell_type": "markdown",
   "metadata": {},
   "source": []
  },
  {
   "cell_type": "markdown",
   "metadata": {},
   "source": [
    "### Question 4"
   ]
  },
  {
   "cell_type": "markdown",
   "metadata": {},
   "source": []
  },
  {
   "cell_type": "markdown",
   "metadata": {},
   "source": [
    "### Question 5\n",
    "\n",
    "Il faudra sans doute écrire plusieurs fonctions auxiliaires (et il vaut mieux les écrire séparément de la principale)."
   ]
  },
  {
   "cell_type": "code",
   "execution_count": 13,
   "metadata": {},
   "outputs": [
    {
     "data": {
      "text/plain": [
       "val plus_proche : 'a -> 'b = <fun>\n"
      ]
     },
     "execution_count": 13,
     "metadata": {},
     "output_type": "execute_result"
    }
   ],
   "source": [
    "let rec plus_proche u =\n",
    "  failwith \"todo\""
   ]
  },
  {
   "cell_type": "markdown",
   "metadata": {},
   "source": [
    "#### Test\n",
    "\n",
    "Ce test suppose que la fonction `naif` est correcte..."
   ]
  },
  {
   "cell_type": "code",
   "execution_count": 15,
   "metadata": {},
   "outputs": [
    {
     "data": {
      "text/plain": [
       "val points_alea : int -> (float * float) list = <fun>\n"
      ]
     },
     "execution_count": 15,
     "metadata": {},
     "output_type": "execute_result"
    },
    {
     "data": {
      "text/plain": [
       "val teste_2 : unit -> unit = <fun>\n"
      ]
     },
     "execution_count": 15,
     "metadata": {},
     "output_type": "execute_result"
    }
   ],
   "source": [
    "let rec points_alea n =\n",
    "  if n = 0 then []\n",
    "  else (Random.float 1., Random.float 1.) :: points_alea (n - 1)\n",
    "\n",
    "let teste_2 () =\n",
    "  for i = 1 to 100 do\n",
    "    let u = points_alea 500 in\n",
    "    assert (naif u = plus_proche u)\n",
    "  done"
   ]
  },
  {
   "cell_type": "markdown",
   "metadata": {},
   "source": [
    "## Exercice 4 - Médiane en temps linéaire"
   ]
  },
  {
   "cell_type": "code",
   "execution_count": 16,
   "metadata": {},
   "outputs": [
    {
     "data": {
      "text/plain": [
       "val mediane_lin : 'a -> 'b = <fun>\n"
      ]
     },
     "execution_count": 16,
     "metadata": {},
     "output_type": "execute_result"
    },
    {
     "data": {
      "text/plain": [
       "val teste_4 : unit -> unit = <fun>\n"
      ]
     },
     "execution_count": 16,
     "metadata": {},
     "output_type": "execute_result"
    }
   ],
   "source": [
    "let mediane_lin t =\n",
    "  failwith \"todo\"\n",
    "           \n",
    "let teste_4 () =\n",
    "  for i = 1 to 100 do\n",
    "    let taille = 1 + Random.int 1000 in\n",
    "    let t = tab_alea taille 500 in\n",
    "    let u = Array.copy t in\n",
    "    assert (mediane_lin t = select u (taille / 2))\n",
    "  done\n"
   ]
  },
  {
   "cell_type": "code",
   "execution_count": null,
   "metadata": {},
   "outputs": [],
   "source": []
  }
 ],
 "metadata": {
  "kernelspec": {
   "display_name": "OCaml 4.08.1+flambda",
   "language": "OCaml",
   "name": "ocaml-jupyter"
  },
  "language_info": {
   "codemirror_mode": "text/x-ocaml",
   "file_extension": ".ml",
   "mimetype": "text/x-ocaml",
   "name": "OCaml",
   "nbconverter_exporter": null,
   "pygments_lexer": "OCaml",
   "version": "4.08.1"
  }
 },
 "nbformat": 4,
 "nbformat_minor": 4
}
